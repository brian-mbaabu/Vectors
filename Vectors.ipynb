{
 "cells": [
  {
   "cell_type": "code",
   "execution_count": 1,
   "metadata": {},
   "outputs": [],
   "source": [
    "#Graphing two dimensional (2D) vectors using numpy and matplotlib.pyplot\n",
    "\n",
    "#importing the necessry libraries: numpy as np, matplotlib as plt\n",
    "import matplotlib.pyplot as plt\n",
    "import numpy as np\n",
    "%matplotlib inline"
   ]
  },
  {
   "cell_type": "code",
   "execution_count": 2,
   "metadata": {},
   "outputs": [
    {
     "data": {
      "image/png": "[encoded data removed]",
      "text/plain": [
       "<Figure size 432x288 with 1 Axes>"
      ]
     },
     "metadata": {
      "needs_background": "light"
     },
     "output_type": "display_data"
    }
   ],
   "source": [
    "#Plotting a 2D vector\n",
    "\n",
    "# Defining vector s\n",
    "s = np.array([1,1])\n",
    "\n",
    "av = plt.axes()\n",
    "\n",
    "# Plots red dot at origin (0,0)\n",
    "av.plot(0,0,'or')\n",
    "\n",
    "# Plots vector v as blue arrow starting at origin 0,0\n",
    "av.arrow(0,0, *s, color = 'b', linewidth = 2.0, head_width = 0.20, head_length = 0.25)\n",
    "\n",
    "# Sets limit for plot for x-axis\n",
    "plt.xlim(-2,2)\n",
    "\n",
    "# Set major ticks for x-axis\n",
    "major_xticks = np.arange(-1, 3)\n",
    "av.set_xticks(major_xticks)\n",
    "\n",
    "#Doing the same for the y-axis\n",
    "plt.ylim(-1, 3)\n",
    "\n",
    "major_yticks = np.arange(-1, 3)\n",
    "av.set_yticks(major_yticks)\n",
    "\n",
    "# Creates gridlines for only major tick marks\n",
    "plt.grid(color='b', which='major')\n",
    "\n",
    "plt.show()\n",
    "\n"
   ]
  },
  {
   "cell_type": "code",
   "execution_count": 3,
   "metadata": {},
   "outputs": [
    {
     "data": {
      "text/plain": [
       "[]"
      ]
     },
     "execution_count": 3,
     "metadata": {},
     "output_type": "execute_result"
    },
    {
     "data": {
      "image/png": "[encoded data removed]",
      "text/plain": [
       "<Figure size 432x288 with 1 Axes>"
      ]
     },
     "metadata": {
      "needs_background": "light"
     },
     "output_type": "display_data"
    }
   ],
   "source": [
    "# Multiplying a 2D vector by a scalar and plotting the results\n",
    "\n",
    "v = np.array([1,2])\n",
    "\n",
    "#Scalar value\n",
    "a = 3\n",
    "\n",
    "# Vector v multiplied by the scalar\n",
    "av = a*v\n",
    "\n",
    "ax = plt.axes()\n",
    "\n",
    "ax.plot(0,0,'or')\n",
    "\n",
    "# Plots vector v as blue arrow starting at origin 0,0\n",
    "ax.arrow(0, 0, *v, color='blue', linewidth = 2.5, head_length = 0.35, head_width = 0.3)\n",
    "\n",
    "# Plots vector av as cyan arrow starting at origin 0,0\n",
    "ax.arrow(0, 0, *av, color='cyan', linestyle = 'dotted', linewidth = 2.5, head_length = 0.25, head_width = 0.2)\n",
    "\n",
    "# Sets limit for plot for x-axis\n",
    "plt.xlim(-1, 3)\n",
    "\n",
    "major_xticks = np.arange(-1, 5)\n",
    "ax.set_xticks(major_xticks)\n",
    "\n",
    "# Sets limit for plot for y-axis\n",
    "plt.ylim(-1, 7)\n",
    "\n",
    "major_yticks = np.arange(-1, 7)\n",
    "ax.set_yticks(major_yticks)\n",
    "\n",
    "# Creates gridlines for only major tick marks\n",
    "plt.grid(b =True, which='major')\n",
    "\n",
    "plt.plot()"
   ]
  },
  {
   "cell_type": "code",
   "execution_count": 4,
   "metadata": {},
   "outputs": [
    {
     "data": {
      "text/plain": [
       "[]"
      ]
     },
     "execution_count": 4,
     "metadata": {},
     "output_type": "execute_result"
    },
    {
     "data": {
      "image/png": "[encoded data removed]",
      "text/plain": [
       "<Figure size 432x288 with 1 Axes>"
      ]
     },
     "metadata": {
      "needs_background": "light"
     },
     "output_type": "display_data"
    }
   ],
   "source": [
    "# Plotting the result of adding two vectors\n",
    "\n",
    "# Define vector v\n",
    "v = np.array([1, 1])\n",
    "\n",
    "# Define vector w\n",
    "w = np.array([-2, 2])\n",
    "\n",
    "# Creates axes of plot referenced 'ax'\n",
    "ax = plt.axes()\n",
    "\n",
    "# Plots red dot at origin (0,0)\n",
    "ax.plot(0,0, 'or')\n",
    "\n",
    "ax.arrow(0,0, *v, color='blue', linewidth = 2.5, head_width = 0.35, head_length = 0.3)\n",
    "\n",
    "ax.arrow(0,0, *w, color='cyan', linewidth = 2.5, head_width = 0.35, head_length = 0.3)\n",
    "\n",
    "plt.xlim(-3, 3)\n",
    "\n",
    "major_xticks = np.arange(-3, 4)\n",
    "ax.set_xticks(major_xticks)\n",
    "\n",
    "plt.ylim(-1, 3)\n",
    "\n",
    "major_yticks = np.arange(-1, 4)\n",
    "ax.set_yticks(major_yticks)\n",
    "\n",
    "ax.grid(b=True, which='major')\n",
    "\n",
    "ax.plot()\n"
   ]
  },
  {
   "cell_type": "code",
   "execution_count": 5,
   "metadata": {},
   "outputs": [
    {
     "data": {
      "text/plain": [
       "[]"
      ]
     },
     "execution_count": 5,
     "metadata": {},
     "output_type": "execute_result"
    },
    {
     "data": {
      "image/png": "[encoded data removed]",
      "text/plain": [
       "<Figure size 432x288 with 1 Axes>"
      ]
     },
     "metadata": {
      "needs_background": "light"
     },
     "output_type": "display_data"
    }
   ],
   "source": [
    "# Plotting Vector Addition\n",
    "v = np.array([1, 2])\n",
    "\n",
    "w = np.array([-2, 2])\n",
    "\n",
    "vw = v+w\n",
    "\n",
    "ax = plt.axes()\n",
    "\n",
    "ax.plot(0,0, 'or')\n",
    "\n",
    "ax.arrow(0,0, *v, color='blue', linewidth = 2.5, head_width = 0.35, head_length = 0.3)\n",
    "\n",
    "ax.arrow(v[0],v[1], *w, color='cyan', linewidth = 2.5, head_width = 0.35, head_length = 0.3)\n",
    "\n",
    "ax.arrow(0,0, *vw, color='black', linestyle='dotted', linewidth = 2.5, head_width = 0.35,\n",
    "        head_length = 0.3)\n",
    "\n",
    "plt.xlim(-3, 3)\n",
    "\n",
    "major_xticks = np.arange(-3, 4)\n",
    "ax.set_xticks(major_xticks)\n",
    "\n",
    "plt.ylim(-1, 5)\n",
    "\n",
    "major_yticks = np.arange(-1, 6)\n",
    "ax.set_yticks(major_yticks)\n",
    "\n",
    "plt.grid(b=True, which='major')\n",
    "\n",
    "plt.plot()"
   ]
  },
  {
   "cell_type": "code",
   "execution_count": null,
   "metadata": {},
   "outputs": [],
   "source": []
  }
 ],
 "metadata": {
  "kernelspec": {
   "display_name": "Python 3",
   "language": "python",
   "name": "python3"
  },
  "language_info": {
   "codemirror_mode": {
    "name": "ipython",
    "version": 3
   },
   "file_extension": ".py",
   "mimetype": "text/x-python",
   "name": "python",
   "nbconvert_exporter": "python",
   "pygments_lexer": "ipython3",
   "version": "3.7.6"
  }
 },
 "nbformat": 4,
 "nbformat_minor": 4
}
